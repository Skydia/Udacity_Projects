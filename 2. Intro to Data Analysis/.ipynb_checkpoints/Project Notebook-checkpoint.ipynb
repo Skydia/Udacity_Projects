{
 "cells": [
  {
   "cell_type": "markdown",
   "metadata": {},
   "source": [
    "# Udacity - Intro to Data Analysis Project Submission  \n",
    "This notebook is created to complete the Intro to Data Analysis Project Submission. The dataset I choose for this project is No-show appointments dataset. There will be some few questions from my own and its solutions."
   ]
  },
  {
   "cell_type": "markdown",
   "metadata": {},
   "source": [
    "## Import DS Libraries and no-show appointments dataset  \n",
    "The libraries I use here would be pandas, numpy, matplotlib, and seaborn.  "
   ]
  },
  {
   "cell_type": "code",
   "execution_count": 1,
   "metadata": {},
   "outputs": [
    {
     "data": {
      "text/html": [
       "<div>\n",
       "<style scoped>\n",
       "    .dataframe tbody tr th:only-of-type {\n",
       "        vertical-align: middle;\n",
       "    }\n",
       "\n",
       "    .dataframe tbody tr th {\n",
       "        vertical-align: top;\n",
       "    }\n",
       "\n",
       "    .dataframe thead th {\n",
       "        text-align: right;\n",
       "    }\n",
       "</style>\n",
       "<table border=\"1\" class=\"dataframe\">\n",
       "  <thead>\n",
       "    <tr style=\"text-align: right;\">\n",
       "      <th></th>\n",
       "      <th>PatientId</th>\n",
       "      <th>AppointmentID</th>\n",
       "      <th>Gender</th>\n",
       "      <th>ScheduledDay</th>\n",
       "      <th>AppointmentDay</th>\n",
       "      <th>Age</th>\n",
       "      <th>Neighbourhood</th>\n",
       "      <th>Scholarship</th>\n",
       "      <th>Hipertension</th>\n",
       "      <th>Diabetes</th>\n",
       "      <th>Alcoholism</th>\n",
       "      <th>Handcap</th>\n",
       "      <th>SMS_received</th>\n",
       "      <th>No-show</th>\n",
       "    </tr>\n",
       "  </thead>\n",
       "  <tbody>\n",
       "    <tr>\n",
       "      <th>0</th>\n",
       "      <td>2.987250e+13</td>\n",
       "      <td>5642903</td>\n",
       "      <td>F</td>\n",
       "      <td>2016-04-29T18:38:08Z</td>\n",
       "      <td>2016-04-29T00:00:00Z</td>\n",
       "      <td>62</td>\n",
       "      <td>JARDIM DA PENHA</td>\n",
       "      <td>0</td>\n",
       "      <td>1</td>\n",
       "      <td>0</td>\n",
       "      <td>0</td>\n",
       "      <td>0</td>\n",
       "      <td>0</td>\n",
       "      <td>No</td>\n",
       "    </tr>\n",
       "    <tr>\n",
       "      <th>1</th>\n",
       "      <td>5.589978e+14</td>\n",
       "      <td>5642503</td>\n",
       "      <td>M</td>\n",
       "      <td>2016-04-29T16:08:27Z</td>\n",
       "      <td>2016-04-29T00:00:00Z</td>\n",
       "      <td>56</td>\n",
       "      <td>JARDIM DA PENHA</td>\n",
       "      <td>0</td>\n",
       "      <td>0</td>\n",
       "      <td>0</td>\n",
       "      <td>0</td>\n",
       "      <td>0</td>\n",
       "      <td>0</td>\n",
       "      <td>No</td>\n",
       "    </tr>\n",
       "    <tr>\n",
       "      <th>2</th>\n",
       "      <td>4.262962e+12</td>\n",
       "      <td>5642549</td>\n",
       "      <td>F</td>\n",
       "      <td>2016-04-29T16:19:04Z</td>\n",
       "      <td>2016-04-29T00:00:00Z</td>\n",
       "      <td>62</td>\n",
       "      <td>MATA DA PRAIA</td>\n",
       "      <td>0</td>\n",
       "      <td>0</td>\n",
       "      <td>0</td>\n",
       "      <td>0</td>\n",
       "      <td>0</td>\n",
       "      <td>0</td>\n",
       "      <td>No</td>\n",
       "    </tr>\n",
       "    <tr>\n",
       "      <th>3</th>\n",
       "      <td>8.679512e+11</td>\n",
       "      <td>5642828</td>\n",
       "      <td>F</td>\n",
       "      <td>2016-04-29T17:29:31Z</td>\n",
       "      <td>2016-04-29T00:00:00Z</td>\n",
       "      <td>8</td>\n",
       "      <td>PONTAL DE CAMBURI</td>\n",
       "      <td>0</td>\n",
       "      <td>0</td>\n",
       "      <td>0</td>\n",
       "      <td>0</td>\n",
       "      <td>0</td>\n",
       "      <td>0</td>\n",
       "      <td>No</td>\n",
       "    </tr>\n",
       "    <tr>\n",
       "      <th>4</th>\n",
       "      <td>8.841186e+12</td>\n",
       "      <td>5642494</td>\n",
       "      <td>F</td>\n",
       "      <td>2016-04-29T16:07:23Z</td>\n",
       "      <td>2016-04-29T00:00:00Z</td>\n",
       "      <td>56</td>\n",
       "      <td>JARDIM DA PENHA</td>\n",
       "      <td>0</td>\n",
       "      <td>1</td>\n",
       "      <td>1</td>\n",
       "      <td>0</td>\n",
       "      <td>0</td>\n",
       "      <td>0</td>\n",
       "      <td>No</td>\n",
       "    </tr>\n",
       "  </tbody>\n",
       "</table>\n",
       "</div>"
      ],
      "text/plain": [
       "      PatientId  AppointmentID Gender          ScheduledDay  \\\n",
       "0  2.987250e+13        5642903      F  2016-04-29T18:38:08Z   \n",
       "1  5.589978e+14        5642503      M  2016-04-29T16:08:27Z   \n",
       "2  4.262962e+12        5642549      F  2016-04-29T16:19:04Z   \n",
       "3  8.679512e+11        5642828      F  2016-04-29T17:29:31Z   \n",
       "4  8.841186e+12        5642494      F  2016-04-29T16:07:23Z   \n",
       "\n",
       "         AppointmentDay  Age      Neighbourhood  Scholarship  Hipertension  \\\n",
       "0  2016-04-29T00:00:00Z   62    JARDIM DA PENHA            0             1   \n",
       "1  2016-04-29T00:00:00Z   56    JARDIM DA PENHA            0             0   \n",
       "2  2016-04-29T00:00:00Z   62      MATA DA PRAIA            0             0   \n",
       "3  2016-04-29T00:00:00Z    8  PONTAL DE CAMBURI            0             0   \n",
       "4  2016-04-29T00:00:00Z   56    JARDIM DA PENHA            0             1   \n",
       "\n",
       "   Diabetes  Alcoholism  Handcap  SMS_received No-show  \n",
       "0         0           0        0             0      No  \n",
       "1         0           0        0             0      No  \n",
       "2         0           0        0             0      No  \n",
       "3         0           0        0             0      No  \n",
       "4         1           0        0             0      No  "
      ]
     },
     "execution_count": 1,
     "metadata": {},
     "output_type": "execute_result"
    }
   ],
   "source": [
    "import pandas as pd\n",
    "import numpy as np\n",
    "import matplotlib.pyplot as plt\n",
    "import seaborn as sns\n",
    "%matplotlib inline\n",
    "\n",
    "df = pd.read_csv(\"Dataset/noshowappointments-kagglev2-may-2016.csv\")\n",
    "df.head()"
   ]
  },
  {
   "cell_type": "markdown",
   "metadata": {},
   "source": [
    "## About the Dataset  \n",
    "The dataset contains 14 columns and 110526 rows. Here are more details about the columns based on my own interpretation :\n",
    " - PatientID       : Registered Patient's ID\n",
    " - AppointmentID   : Registered Appointment ID\n",
    " - Gender          : Patient's gender type\n",
    " - ScheduledDay    : The day where the patient came to make an appointment\n",
    " - AppointmentDay  : The day when the patient made the appointment for\n",
    " - Age             : Age of the patient\n",
    " - Neighbourhood   : Where the appointment takes place\n",
    " - Scholarship     : True or False, whether the patient received a scholarship from Bolsa Familia or not\n",
    " - Hipertension    : True or False, whether the patient have hypertension or not\n",
    " - Diabetes        : True or False, whether the patient have diabetes or not\n",
    " - Alcoholism      : True or False, whether the patient drinks alcohol or not\n",
    " - Handcap         : True or False, whether the patient handicapped or not\n",
    " - SMS_received    : True or False, whether 1 or more messages sent to the patient or not\n",
    " - No-show         : True or False, whether the patient show up or not  \n",
    "These column details are based on my interpretation from the Kaggle website, so there could be wrong details. Here is the [link](https://www.kaggle.com/joniarroba/noshowappointments) to the dataset resource"
   ]
  },
  {
   "cell_type": "markdown",
   "metadata": {},
   "source": [
    "## Investigate Dataset Structure  \n",
    "Investigate the dataset to find any abnormalities from the dataset's structure or values. There are 3 points I would discuss here :  \n",
    " - data type consistency\n",
    " - null values  \n",
    " - duplicate values\n",
    " - inconsistent value"
   ]
  },
  {
   "cell_type": "markdown",
   "metadata": {},
   "source": [
    "### Data type consistency"
   ]
  },
  {
   "cell_type": "code",
   "execution_count": 2,
   "metadata": {},
   "outputs": [
    {
     "name": "stdout",
     "output_type": "stream",
     "text": [
      "<class 'pandas.core.frame.DataFrame'>\n",
      "RangeIndex: 110527 entries, 0 to 110526\n",
      "Data columns (total 14 columns):\n",
      " #   Column          Non-Null Count   Dtype  \n",
      "---  ------          --------------   -----  \n",
      " 0   PatientId       110527 non-null  float64\n",
      " 1   AppointmentID   110527 non-null  int64  \n",
      " 2   Gender          110527 non-null  object \n",
      " 3   ScheduledDay    110527 non-null  object \n",
      " 4   AppointmentDay  110527 non-null  object \n",
      " 5   Age             110527 non-null  int64  \n",
      " 6   Neighbourhood   110527 non-null  object \n",
      " 7   Scholarship     110527 non-null  int64  \n",
      " 8   Hipertension    110527 non-null  int64  \n",
      " 9   Diabetes        110527 non-null  int64  \n",
      " 10  Alcoholism      110527 non-null  int64  \n",
      " 11  Handcap         110527 non-null  int64  \n",
      " 12  SMS_received    110527 non-null  int64  \n",
      " 13  No-show         110527 non-null  object \n",
      "dtypes: float64(1), int64(8), object(5)\n",
      "memory usage: 11.8+ MB\n"
     ]
    }
   ],
   "source": [
    "df.info()"
   ]
  },
  {
   "cell_type": "markdown",
   "metadata": {},
   "source": [
    "There are no null values so we leave the null values problem. But some data types are wrong. My fix would be :\n",
    " - String   : PatientID, AppointmentID\n",
    " - Boolean  : Scholarship, Hipertension, Diabetes, Alcoholism, Handcap, SMS_received\n",
    " - Category : No-show, Gender\n",
    " - datetime : ScheduledDay, AppointmentDay"
   ]
  },
  {
   "cell_type": "code",
   "execution_count": 3,
   "metadata": {},
   "outputs": [],
   "source": [
    "list_object = ['PatientId', 'AppointmentID'] #variables to be converted into string\n",
    "list_bool = ['Scholarship', 'Hipertension', 'Diabetes', 'Alcoholism', 'Handcap', 'SMS_received'] #variables to be converted into bool\n",
    "list_category = ['Gender','No-show'] #variables to be converted into category\n",
    "list_datetime = ['ScheduledDay', 'AppointmentDay'] #variables to be converted into datetime\n",
    "df[list_object] = df[list_object].astype('object') #converting into string\n",
    "df[list_bool] = df[list_bool].astype('bool') #converting into boolean\n",
    "df[list_category] = df[list_category].astype('category') #converting into category\n",
    "df[list_datetime] = df[list_datetime].astype('datetime64') #converting into datetime"
   ]
  },
  {
   "cell_type": "code",
   "execution_count": 4,
   "metadata": {},
   "outputs": [
    {
     "name": "stdout",
     "output_type": "stream",
     "text": [
      "<class 'pandas.core.frame.DataFrame'>\n",
      "RangeIndex: 110527 entries, 0 to 110526\n",
      "Data columns (total 14 columns):\n",
      " #   Column          Non-Null Count   Dtype         \n",
      "---  ------          --------------   -----         \n",
      " 0   PatientId       110527 non-null  object        \n",
      " 1   AppointmentID   110527 non-null  object        \n",
      " 2   Gender          110527 non-null  category      \n",
      " 3   ScheduledDay    110527 non-null  datetime64[ns]\n",
      " 4   AppointmentDay  110527 non-null  datetime64[ns]\n",
      " 5   Age             110527 non-null  int64         \n",
      " 6   Neighbourhood   110527 non-null  object        \n",
      " 7   Scholarship     110527 non-null  bool          \n",
      " 8   Hipertension    110527 non-null  bool          \n",
      " 9   Diabetes        110527 non-null  bool          \n",
      " 10  Alcoholism      110527 non-null  bool          \n",
      " 11  Handcap         110527 non-null  bool          \n",
      " 12  SMS_received    110527 non-null  bool          \n",
      " 13  No-show         110527 non-null  category      \n",
      "dtypes: bool(6), category(2), datetime64[ns](2), int64(1), object(3)\n",
      "memory usage: 5.9+ MB\n"
     ]
    }
   ],
   "source": [
    "df.info()"
   ]
  },
  {
   "cell_type": "markdown",
   "metadata": {},
   "source": [
    "### Duplicate values  \n",
    "Finding duplicate values if available"
   ]
  },
  {
   "cell_type": "code",
   "execution_count": 5,
   "metadata": {},
   "outputs": [
    {
     "data": {
      "text/html": [
       "<div>\n",
       "<style scoped>\n",
       "    .dataframe tbody tr th:only-of-type {\n",
       "        vertical-align: middle;\n",
       "    }\n",
       "\n",
       "    .dataframe tbody tr th {\n",
       "        vertical-align: top;\n",
       "    }\n",
       "\n",
       "    .dataframe thead th {\n",
       "        text-align: right;\n",
       "    }\n",
       "</style>\n",
       "<table border=\"1\" class=\"dataframe\">\n",
       "  <thead>\n",
       "    <tr style=\"text-align: right;\">\n",
       "      <th></th>\n",
       "      <th>PatientId</th>\n",
       "      <th>AppointmentID</th>\n",
       "      <th>Gender</th>\n",
       "      <th>ScheduledDay</th>\n",
       "      <th>AppointmentDay</th>\n",
       "      <th>Age</th>\n",
       "      <th>Neighbourhood</th>\n",
       "      <th>Scholarship</th>\n",
       "      <th>Hipertension</th>\n",
       "      <th>Diabetes</th>\n",
       "      <th>Alcoholism</th>\n",
       "      <th>Handcap</th>\n",
       "      <th>SMS_received</th>\n",
       "      <th>No-show</th>\n",
       "    </tr>\n",
       "  </thead>\n",
       "  <tbody>\n",
       "  </tbody>\n",
       "</table>\n",
       "</div>"
      ],
      "text/plain": [
       "Empty DataFrame\n",
       "Columns: [PatientId, AppointmentID, Gender, ScheduledDay, AppointmentDay, Age, Neighbourhood, Scholarship, Hipertension, Diabetes, Alcoholism, Handcap, SMS_received, No-show]\n",
       "Index: []"
      ]
     },
     "execution_count": 5,
     "metadata": {},
     "output_type": "execute_result"
    }
   ],
   "source": [
    "df[df.duplicated()] #find duplicates"
   ]
  },
  {
   "cell_type": "markdown",
   "metadata": {},
   "source": [
    "It seems there is no duplicate row from this dataset. We can go to the next step."
   ]
  },
  {
   "cell_type": "markdown",
   "metadata": {},
   "source": [
    "### Inconsistent value  \n",
    "Finding inconsistent value such as outliers or not logical values"
   ]
  },
  {
   "cell_type": "code",
   "execution_count": 6,
   "metadata": {},
   "outputs": [
    {
     "data": {
      "text/html": [
       "<div>\n",
       "<style scoped>\n",
       "    .dataframe tbody tr th:only-of-type {\n",
       "        vertical-align: middle;\n",
       "    }\n",
       "\n",
       "    .dataframe tbody tr th {\n",
       "        vertical-align: top;\n",
       "    }\n",
       "\n",
       "    .dataframe thead th {\n",
       "        text-align: right;\n",
       "    }\n",
       "</style>\n",
       "<table border=\"1\" class=\"dataframe\">\n",
       "  <thead>\n",
       "    <tr style=\"text-align: right;\">\n",
       "      <th></th>\n",
       "      <th>Age</th>\n",
       "    </tr>\n",
       "  </thead>\n",
       "  <tbody>\n",
       "    <tr>\n",
       "      <th>count</th>\n",
       "      <td>110527.000000</td>\n",
       "    </tr>\n",
       "    <tr>\n",
       "      <th>mean</th>\n",
       "      <td>37.088874</td>\n",
       "    </tr>\n",
       "    <tr>\n",
       "      <th>std</th>\n",
       "      <td>23.110205</td>\n",
       "    </tr>\n",
       "    <tr>\n",
       "      <th>min</th>\n",
       "      <td>-1.000000</td>\n",
       "    </tr>\n",
       "    <tr>\n",
       "      <th>25%</th>\n",
       "      <td>18.000000</td>\n",
       "    </tr>\n",
       "    <tr>\n",
       "      <th>50%</th>\n",
       "      <td>37.000000</td>\n",
       "    </tr>\n",
       "    <tr>\n",
       "      <th>75%</th>\n",
       "      <td>55.000000</td>\n",
       "    </tr>\n",
       "    <tr>\n",
       "      <th>max</th>\n",
       "      <td>115.000000</td>\n",
       "    </tr>\n",
       "  </tbody>\n",
       "</table>\n",
       "</div>"
      ],
      "text/plain": [
       "                 Age\n",
       "count  110527.000000\n",
       "mean       37.088874\n",
       "std        23.110205\n",
       "min        -1.000000\n",
       "25%        18.000000\n",
       "50%        37.000000\n",
       "75%        55.000000\n",
       "max       115.000000"
      ]
     },
     "execution_count": 6,
     "metadata": {},
     "output_type": "execute_result"
    }
   ],
   "source": [
    "df.describe() #find summary statistics"
   ]
  },
  {
   "cell_type": "markdown",
   "metadata": {},
   "source": [
    "The minimum of Age variable is -1, which is impossible for a human age. It looks it's actually null values. Delete those rows would make the dataset cleaner"
   ]
  },
  {
   "cell_type": "code",
   "execution_count": 7,
   "metadata": {},
   "outputs": [
    {
     "name": "stdout",
     "output_type": "stream",
     "text": [
      "<class 'pandas.core.frame.DataFrame'>\n",
      "Int64Index: 110526 entries, 0 to 110526\n",
      "Data columns (total 14 columns):\n",
      " #   Column          Non-Null Count   Dtype         \n",
      "---  ------          --------------   -----         \n",
      " 0   PatientId       110526 non-null  object        \n",
      " 1   AppointmentID   110526 non-null  object        \n",
      " 2   Gender          110526 non-null  category      \n",
      " 3   ScheduledDay    110526 non-null  datetime64[ns]\n",
      " 4   AppointmentDay  110526 non-null  datetime64[ns]\n",
      " 5   Age             110526 non-null  int64         \n",
      " 6   Neighbourhood   110526 non-null  object        \n",
      " 7   Scholarship     110526 non-null  bool          \n",
      " 8   Hipertension    110526 non-null  bool          \n",
      " 9   Diabetes        110526 non-null  bool          \n",
      " 10  Alcoholism      110526 non-null  bool          \n",
      " 11  Handcap         110526 non-null  bool          \n",
      " 12  SMS_received    110526 non-null  bool          \n",
      " 13  No-show         110526 non-null  category      \n",
      "dtypes: bool(6), category(2), datetime64[ns](2), int64(1), object(3)\n",
      "memory usage: 6.7+ MB\n"
     ]
    }
   ],
   "source": [
    "df = df[df['Age']>=0] #eliminate inconsistent or null value\n",
    "df.info()"
   ]
  },
  {
   "cell_type": "markdown",
   "metadata": {},
   "source": [
    "It looks like there is only one row with -1 age. At least the dataset now is slightly cleaner."
   ]
  },
  {
   "cell_type": "markdown",
   "metadata": {},
   "source": [
    "## Exploratory Data Analysis  \n",
    "I found some new insights based on few questions. The questions are :\n",
    " - Visualize the scheduled day and appointment day based on No-show column to see if there is any seasonal effect\n",
    " - Find the patient's gender distribution to see if there is something interesting\n",
    " - Do older people tends to show up on appointment day?\n",
    " - Which column tends to be the most important variable to No-show column?"
   ]
  },
  {
   "cell_type": "markdown",
   "metadata": {},
   "source": [
    "### Visualize the scheduled day and appointment day based on No-show column to find if there is any seasonal effect  \n",
    "There would be two visualizations, the scheduled day by no-show column and appointment day by no-show column. The time window would be between a month starts from the earliest."
   ]
  },
  {
   "cell_type": "markdown",
   "metadata": {},
   "source": [
    "#### Scheduled Day & No-show"
   ]
  },
  {
   "cell_type": "code",
   "execution_count": 8,
   "metadata": {},
   "outputs": [],
   "source": [
    "# plotting function\n",
    "def plot_timeseries(cur_df,column):\n",
    "    plt.figure(figsize=(10,5)) #create matplotlib figure size\n",
    "    cur_df.groupby([cur_df[column].dt.year, cur_df[column].dt.month])['No-show'].value_counts().unstack()['No'].plot() #plot time series with 'No' value\n",
    "    cur_df.groupby([cur_df[column].dt.year, cur_df[column].dt.month])['No-show'].value_counts().unstack()['Yes'].plot() #plot time series with 'Yes' value\n",
    "    # On the 2nd and 3rd line, those can be written with one line instead. But I can't change the figure size \n",
    "    # and the x label seems cramped\n",
    "    plt.xlabel('Year,Month')\n",
    "    plt.ylabel('Amount of shown')\n",
    "    plt.legend()\n",
    "    plt.title('Monthly Not Shown on Scheduled Day');"
   ]
  },
  {
   "cell_type": "code",
   "execution_count": 9,
   "metadata": {},
   "outputs": [
    {
     "data": {
      "image/png": "[encoded data removed]",
      "text/plain": [
       "<Figure size 720x360 with 1 Axes>"
      ]
     },
     "metadata": {
      "needs_background": "light"
     },
     "output_type": "display_data"
    }
   ],
   "source": [
    "plot_timeseries(df,'ScheduledDay')"
   ]
  },
  {
   "cell_type": "markdown",
   "metadata": {},
   "source": [
    "#### Appointment Day & No-show"
   ]
  },
  {
   "cell_type": "code",
   "execution_count": 10,
   "metadata": {},
   "outputs": [
    {
     "data": {
      "image/png": "[encoded data removed]",
      "text/plain": [
       "<Figure size 720x360 with 1 Axes>"
      ]
     },
     "metadata": {
      "needs_background": "light"
     },
     "output_type": "display_data"
    }
   ],
   "source": [
    "plot_timeseries(df,'AppointmentDay')"
   ]
  },
  {
   "cell_type": "markdown",
   "metadata": {},
   "source": [
    "It seems both visualization has the highest appointments on May 2016. There was something happened that made the amount appointments peaked. Both the amount of April and June looks almost the same.  \n",
    "Before March 2016, the amount of scheduled day was very low. I think it just opened and started to collect data. I'm surprised with the amount of May 2016 compared to the previous months.  \n",
    "It goes the same with the amount of appointment day. It started to spike on May 2016. Maybe most of them made an appointment on the same day when they made the schedule. I'm sure there must be something on this month.  "
   ]
  },
  {
   "cell_type": "markdown",
   "metadata": {},
   "source": [
    "About the No-show variable, it seems most of the people show up for the appointment day. Let's find the proportion between yes and no value"
   ]
  },
  {
   "cell_type": "code",
   "execution_count": 11,
   "metadata": {},
   "outputs": [
    {
     "data": {
      "text/plain": [
       "No     0.798066\n",
       "Yes    0.201934\n",
       "Name: No-show, dtype: float64"
      ]
     },
     "execution_count": 11,
     "metadata": {},
     "output_type": "execute_result"
    }
   ],
   "source": [
    "df['No-show'].value_counts() / len(df) #find proportion on 'No-show' variable"
   ]
  },
  {
   "cell_type": "markdown",
   "metadata": {},
   "source": [
    "Almost 80% of the patients really show up for the appointment day."
   ]
  },
  {
   "cell_type": "markdown",
   "metadata": {},
   "source": [
    "### Find the patient's gender distribution to see if there is something interesting  \n",
    "There are many way to do this, such as statistical analysis and visualizing with various plots. For now, I'll visualize the age using histogram to see the distribution between gender"
   ]
  },
  {
   "cell_type": "code",
   "execution_count": 12,
   "metadata": {},
   "outputs": [],
   "source": [
    "def hist_plot(cur_df,column):\n",
    "    plt.figure(figsize=(5,5))\n",
    "    plt.hist(cur_df[column])\n",
    "    plt.xlabel('Gender')\n",
    "    plt.ylabel('Amount of patients')\n",
    "    plt.title(\"Patient's age distribution\")"
   ]
  },
  {
   "cell_type": "code",
   "execution_count": 13,
   "metadata": {},
   "outputs": [
    {
     "data": {
      "image/png": "[encoded data removed]",
      "text/plain": [
       "<Figure size 360x360 with 1 Axes>"
      ]
     },
     "metadata": {
      "needs_background": "light"
     },
     "output_type": "display_data"
    }
   ],
   "source": [
    "hist_plot(df,'Gender')"
   ]
  },
  {
   "cell_type": "markdown",
   "metadata": {},
   "source": [
    "Most of the patients came to make an appointment are female. Currently I don't really know what causes this. It's worth to investigate more why did this happened. Unfortunately, this dataset doesn't tell us what kind of disease the patient received and the population in that specific area. It could be most of the disease attacks female or that most of the people here are female (this could be analyzed further with additional dataset though)."
   ]
  },
  {
   "cell_type": "markdown",
   "metadata": {},
   "source": [
    "### Do older people tends to show up on appointment day?  \n",
    "Let's visualize the age and No-show variable using Boxplot"
   ]
  },
  {
   "cell_type": "code",
   "execution_count": 14,
   "metadata": {},
   "outputs": [
    {
     "data": {
      "image/png": "[encoded data removed]",
      "text/plain": [
       "<Figure size 720x360 with 1 Axes>"
      ]
     },
     "metadata": {
      "needs_background": "light"
     },
     "output_type": "display_data"
    }
   ],
   "source": [
    "plt.figure(figsize=(10,5))\n",
    "sns.boxplot(x='No-show',y='Age',data=df) #create boxplot\n",
    "plt.title('Comparison on No-show column and Age for each value');"
   ]
  },
  {
   "cell_type": "markdown",
   "metadata": {},
   "source": [
    "I don't think there is much of difference between Yes or no values. But the upper quartile, median, and lower quartile from those who shows up seems higher than those who doesn't show up. It means that most older people tends to show up on appointment day. Still, it doesn't mean every younger people would not show on the appointment day."
   ]
  },
  {
   "cell_type": "markdown",
   "metadata": {},
   "source": [
    "I'd like to investigate more about how the proportion is between child, teen, adult, and an elder that shows up. To do this, I have to make different age ranges to make it easier to read. Here, I'm assuming that children are between 0 to 13, teen between 13 and 18, adult between 18 and 50, and elder above than 50. And then, I can group by the age range, find the mean, and get the final result from No-show variable"
   ]
  },
  {
   "cell_type": "code",
   "execution_count": 15,
   "metadata": {},
   "outputs": [],
   "source": [
    "# Make different age range\n",
    "df['Age_range'] = pd.cut(df['Age'], bins=[0,13,18,50,df['Age'].max()], labels=['child','teen','adult','elder'])\n",
    "\n",
    "# Find proportion to No-show column\n",
    "def find_proportion(cur_df,column):\n",
    "    # copy current dataframe\n",
    "    temp_df = cur_df.copy()\n",
    "    \n",
    "    # change No-show variable values into 0 for 'No' and 1 for 'Yes'\n",
    "    temp_df['No-show'] = temp_df['No-show'].apply(lambda x: 0 if x==\"No\" else 1).astype('int')\n",
    "    \n",
    "    # group by column, and then get the mean with no-show to see the proportion\n",
    "    print(temp_df.groupby(column).mean()['No-show'])"
   ]
  },
  {
   "cell_type": "code",
   "execution_count": 16,
   "metadata": {},
   "outputs": [
    {
     "name": "stdout",
     "output_type": "stream",
     "text": [
      "Age_range\n",
      "child    0.213495\n",
      "teen     0.258213\n",
      "adult    0.221576\n",
      "elder    0.161675\n",
      "Name: No-show, dtype: float64\n"
     ]
    }
   ],
   "source": [
    "find_proportion(df,'Age_range')"
   ]
  },
  {
   "cell_type": "markdown",
   "metadata": {},
   "source": [
    "The above result is interesting. When I make different age ranges, teens are mostly attending their appointments. This is different from what I concluded with boxplot visualization. Now we know that most of the patient that shows up are between 13 and 18."
   ]
  },
  {
   "cell_type": "markdown",
   "metadata": {},
   "source": [
    "### Which column tends to be the most important variable to No-show column?  \n",
    "There are many methods to find the most important variables. I use two methods to find Feature Importance, which are Correlation and Random Forest.  \n",
    "For this problem, I need to delete 'AppointmentID' and 'PatientId' variable because it is not needed. It just tells us that the id is unique and there would be nothing more to tell. This need to be done too for 'ScheduledDay', 'AppointmentDay' as they only tells us the day they made an appointment. Last variable to be dropped is 'Neighbourhood' variable. Actually I could use this variable to convert it into one hot encoder, but the unique values are way too many. Therefore, using LabelEncoder on that variable would make it a high number of value. This could affect the result of Random Forest model.  \n",
    "\n",
    "Now let's drop the variables that are not needed"
   ]
  },
  {
   "cell_type": "code",
   "execution_count": 17,
   "metadata": {},
   "outputs": [],
   "source": [
    "importance = df.drop(['Neighbourhood','PatientId','AppointmentID','ScheduledDay','AppointmentDay','Age_range'],axis=1) #drop columns"
   ]
  },
  {
   "cell_type": "markdown",
   "metadata": {},
   "source": [
    "Also in this problem, we need to convert every variables into number values. Other than boolean, Scikit's Label Encoder would be good to convert categorical data into numbers"
   ]
  },
  {
   "cell_type": "code",
   "execution_count": 18,
   "metadata": {},
   "outputs": [],
   "source": [
    "from sklearn.preprocessing import LabelEncoder\n",
    "to_number_var = ['Gender','No-show'] #variables to be converted\n",
    "le = LabelEncoder() #create LabelEncoder object\n",
    "for column in to_number_var: # Convert each variables as needed\n",
    "    importance[column] = le.fit_transform(importance[column]) #converting variables"
   ]
  },
  {
   "cell_type": "markdown",
   "metadata": {},
   "source": [
    "Not to forget the 'Age' variable should be rescaled so it doesn't heavily affect the Random Forest model"
   ]
  },
  {
   "cell_type": "code",
   "execution_count": 19,
   "metadata": {},
   "outputs": [],
   "source": [
    "from sklearn.preprocessing import MinMaxScaler\n",
    "importance_columns = importance.columns.values #get column names\n",
    "scaler = MinMaxScaler() #create scaler object\n",
    "importance = pd.DataFrame(scaler.fit_transform(importance)) #rescale values into scale of 0 to 1\n",
    "importance.columns = importance_columns #assign current importance column names"
   ]
  },
  {
   "cell_type": "code",
   "execution_count": 20,
   "metadata": {},
   "outputs": [
    {
     "data": {
      "text/html": [
       "<div>\n",
       "<style scoped>\n",
       "    .dataframe tbody tr th:only-of-type {\n",
       "        vertical-align: middle;\n",
       "    }\n",
       "\n",
       "    .dataframe tbody tr th {\n",
       "        vertical-align: top;\n",
       "    }\n",
       "\n",
       "    .dataframe thead th {\n",
       "        text-align: right;\n",
       "    }\n",
       "</style>\n",
       "<table border=\"1\" class=\"dataframe\">\n",
       "  <thead>\n",
       "    <tr style=\"text-align: right;\">\n",
       "      <th></th>\n",
       "      <th>Gender</th>\n",
       "      <th>Age</th>\n",
       "      <th>Scholarship</th>\n",
       "      <th>Hipertension</th>\n",
       "      <th>Diabetes</th>\n",
       "      <th>Alcoholism</th>\n",
       "      <th>Handcap</th>\n",
       "      <th>SMS_received</th>\n",
       "      <th>No-show</th>\n",
       "    </tr>\n",
       "  </thead>\n",
       "  <tbody>\n",
       "    <tr>\n",
       "      <th>0</th>\n",
       "      <td>0.0</td>\n",
       "      <td>0.539130</td>\n",
       "      <td>0.0</td>\n",
       "      <td>1.0</td>\n",
       "      <td>0.0</td>\n",
       "      <td>0.0</td>\n",
       "      <td>0.0</td>\n",
       "      <td>0.0</td>\n",
       "      <td>0.0</td>\n",
       "    </tr>\n",
       "    <tr>\n",
       "      <th>1</th>\n",
       "      <td>1.0</td>\n",
       "      <td>0.486957</td>\n",
       "      <td>0.0</td>\n",
       "      <td>0.0</td>\n",
       "      <td>0.0</td>\n",
       "      <td>0.0</td>\n",
       "      <td>0.0</td>\n",
       "      <td>0.0</td>\n",
       "      <td>0.0</td>\n",
       "    </tr>\n",
       "    <tr>\n",
       "      <th>2</th>\n",
       "      <td>0.0</td>\n",
       "      <td>0.539130</td>\n",
       "      <td>0.0</td>\n",
       "      <td>0.0</td>\n",
       "      <td>0.0</td>\n",
       "      <td>0.0</td>\n",
       "      <td>0.0</td>\n",
       "      <td>0.0</td>\n",
       "      <td>0.0</td>\n",
       "    </tr>\n",
       "    <tr>\n",
       "      <th>3</th>\n",
       "      <td>0.0</td>\n",
       "      <td>0.069565</td>\n",
       "      <td>0.0</td>\n",
       "      <td>0.0</td>\n",
       "      <td>0.0</td>\n",
       "      <td>0.0</td>\n",
       "      <td>0.0</td>\n",
       "      <td>0.0</td>\n",
       "      <td>0.0</td>\n",
       "    </tr>\n",
       "    <tr>\n",
       "      <th>4</th>\n",
       "      <td>0.0</td>\n",
       "      <td>0.486957</td>\n",
       "      <td>0.0</td>\n",
       "      <td>1.0</td>\n",
       "      <td>1.0</td>\n",
       "      <td>0.0</td>\n",
       "      <td>0.0</td>\n",
       "      <td>0.0</td>\n",
       "      <td>0.0</td>\n",
       "    </tr>\n",
       "  </tbody>\n",
       "</table>\n",
       "</div>"
      ],
      "text/plain": [
       "   Gender       Age  Scholarship  Hipertension  Diabetes  Alcoholism  Handcap  \\\n",
       "0     0.0  0.539130          0.0           1.0       0.0         0.0      0.0   \n",
       "1     1.0  0.486957          0.0           0.0       0.0         0.0      0.0   \n",
       "2     0.0  0.539130          0.0           0.0       0.0         0.0      0.0   \n",
       "3     0.0  0.069565          0.0           0.0       0.0         0.0      0.0   \n",
       "4     0.0  0.486957          0.0           1.0       1.0         0.0      0.0   \n",
       "\n",
       "   SMS_received  No-show  \n",
       "0           0.0      0.0  \n",
       "1           0.0      0.0  \n",
       "2           0.0      0.0  \n",
       "3           0.0      0.0  \n",
       "4           0.0      0.0  "
      ]
     },
     "execution_count": 20,
     "metadata": {},
     "output_type": "execute_result"
    }
   ],
   "source": [
    "importance.head()"
   ]
  },
  {
   "cell_type": "markdown",
   "metadata": {},
   "source": [
    "Now we're ready to find the feature importance"
   ]
  },
  {
   "cell_type": "markdown",
   "metadata": {},
   "source": [
    "#### Correlation method  \n",
    "I only need to compare 'No-show' variable with the others. I can ignore the comparison between the other variables"
   ]
  },
  {
   "cell_type": "code",
   "execution_count": 21,
   "metadata": {},
   "outputs": [
    {
     "data": {
      "text/plain": [
       "No-show         1.000000\n",
       "SMS_received    0.126428\n",
       "Scholarship     0.029134\n",
       "Alcoholism     -0.000197\n",
       "Gender         -0.004122\n",
       "Handcap        -0.007281\n",
       "Diabetes       -0.015181\n",
       "Hipertension   -0.035704\n",
       "Age            -0.060327\n",
       "Name: No-show, dtype: float64"
      ]
     },
     "execution_count": 21,
     "metadata": {},
     "output_type": "execute_result"
    }
   ],
   "source": [
    "importance.corr()['No-show'].sort_values(ascending=False) #get correlation by 'No-show' variable"
   ]
  },
  {
   "cell_type": "markdown",
   "metadata": {},
   "source": [
    "Based on the above variables, it seems 'SMS_received' is the most affecting to 'No-show' variable, even though the correlation value is only 0.126. At least this tells us that sending SMS would help remind the patient to come for the appointment, and it does have a small impact to the patient to show up. "
   ]
  },
  {
   "cell_type": "markdown",
   "metadata": {},
   "source": [
    "#### Random Forest Method  \n",
    "This is different from the correlation method. I have to train the Random Forest model first, then I can find its feature importance."
   ]
  },
  {
   "cell_type": "code",
   "execution_count": 22,
   "metadata": {},
   "outputs": [
    {
     "name": "stderr",
     "output_type": "stream",
     "text": [
      "G:\\Anaconda\\lib\\site-packages\\ipykernel_launcher.py:3: DataConversionWarning: A column-vector y was passed when a 1d array was expected. Please change the shape of y to (n_samples,), for example using ravel().\n",
      "  This is separate from the ipykernel package so we can avoid doing imports until\n"
     ]
    },
    {
     "data": {
      "text/plain": [
       "RandomForestClassifier(bootstrap=True, ccp_alpha=0.0, class_weight=None,\n",
       "                       criterion='gini', max_depth=None, max_features='auto',\n",
       "                       max_leaf_nodes=None, max_samples=None,\n",
       "                       min_impurity_decrease=0.0, min_impurity_split=None,\n",
       "                       min_samples_leaf=1, min_samples_split=2,\n",
       "                       min_weight_fraction_leaf=0.0, n_estimators=100,\n",
       "                       n_jobs=None, oob_score=False, random_state=None,\n",
       "                       verbose=0, warm_start=False)"
      ]
     },
     "execution_count": 22,
     "metadata": {},
     "output_type": "execute_result"
    }
   ],
   "source": [
    "from sklearn.ensemble import RandomForestClassifier\n",
    "clf = RandomForestClassifier() #create random forest model\n",
    "clf.fit(importance.drop('No-show',axis=1), importance[['No-show']]) #train the model"
   ]
  },
  {
   "cell_type": "markdown",
   "metadata": {},
   "source": [
    "Now we can get the most important features"
   ]
  },
  {
   "cell_type": "code",
   "execution_count": 23,
   "metadata": {},
   "outputs": [
    {
     "name": "stdout",
     "output_type": "stream",
     "text": [
      "('Gender', 0.018170807076439054)\n",
      "('Age', 0.6850483234941273)\n",
      "('Scholarship', 0.017964092048336343)\n",
      "('Hipertension', 0.019579779654318584)\n",
      "('Diabetes', 0.012602648823683534)\n",
      "('Alcoholism', 0.015145319369276189)\n",
      "('Handcap', 0.010567917813254151)\n",
      "('SMS_received', 0.22092111172056483)\n"
     ]
    }
   ],
   "source": [
    "feat_labels = importance.columns #get column names to identify importances\n",
    "for feature in zip(feat_labels, clf.feature_importances_): #get the variable name and its importances\n",
    "    print(feature)"
   ]
  },
  {
   "cell_type": "markdown",
   "metadata": {},
   "source": [
    "The result is different from what correlation method did. The score of 'Age' variable seems much higher with 0.686 score, meaning this variable is the most important compared to the other variables. According to this model, the above Boxplot visualization seems to be correct where older people tends to show up for the appointment."
   ]
  },
  {
   "cell_type": "markdown",
   "metadata": {},
   "source": [
    "## Conclusion  \n",
    "I write the conclusion into these points :  \n",
    " - This dataset has a sample of 110526 patients on a specific area. This is only a small portion of the population. More records needed for a better analysis.\n",
    " - May 2016 is the highest amount of patient among of the other months. Something was happened on that month.\n",
    " - According to this dataset, around 80% of the people came for an appointment.\n",
    " - According to the boxplot visualization, Older people tends to shows up for the appointment than those who are younger.\n",
    " - By making different age ranges, we found that teen are mostly shows up for the appointment. This result is different from what Boxplot visualization shows us.\n",
    " - By using correlation analysis, the result is that SMS_received is the most important variable. Sending SMS have a little higher chance to make the patient come for the appointment.\n",
    " - The correlation analysis have a limitation where it tells us about linear relationship. This can't be applied if our problem is non-linear relationship. There could be another unknown features that heavily affect No-show variable.\n",
    " - By using Random Forest method, age is the most important variable. It is also known by the boxplot visualization, where older people tends to come for the appointment rather than those who are younger.\n",
    " - This dataset doesn't tell us what kind of disease the patient received and how many population in that specific area. Therefore, with more features could improve the quality of analysis. Especially, it could tell us the reason that why most of the patients are female.\n",
    " \n",
    "Hopefully this notebook would give you a meaningful insight about No-show appointments dataset. Thank you to Udacity and mentors for the lesson they gave to me about Data Analysis!"
   ]
  },
  {
   "cell_type": "markdown",
   "metadata": {},
   "source": [
    "## References  \n",
    "Here are the blogs I read to complete this project :\n",
    " 1. [Geeksforgeeks](https://www.geeksforgeeks.org/ml-label-encoding-of-datasets-in-python/)\n",
    " 2. [Towards Data Science](https://towardsdatascience.com/feature-selection-techniques-in-machine-learning-with-python-f24e7da3f36e)\n",
    " 3. [Chrisalbon](https://chrisalbon.com/machine_learning/trees_and_forests/feature_selection_using_random_forest/)"
   ]
  }
 ],
 "metadata": {
  "kernelspec": {
   "display_name": "Python 3",
   "language": "python",
   "name": "python3"
  },
  "language_info": {
   "codemirror_mode": {
    "name": "ipython",
    "version": 3
   },
   "file_extension": ".py",
   "mimetype": "text/x-python",
   "name": "python",
   "nbconvert_exporter": "python",
   "pygments_lexer": "ipython3",
   "version": "3.7.6"
  }
 },
 "nbformat": 4,
 "nbformat_minor": 4
}
